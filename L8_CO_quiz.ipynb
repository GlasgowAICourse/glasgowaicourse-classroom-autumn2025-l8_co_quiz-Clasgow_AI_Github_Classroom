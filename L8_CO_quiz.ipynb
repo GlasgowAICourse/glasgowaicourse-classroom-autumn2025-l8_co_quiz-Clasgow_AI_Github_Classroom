{
 "cells": [
  {
   "cell_type": "markdown",
   "id": "1add3513",
   "metadata": {},
   "source": [
    "### **Part 1: Quiz (Multiple Choice Questions)**\n",
    "\n",
    "**Instructions:** For each question, please replace the `[Your Answer Here]` placeholder with the letter of the correct option (e.g., A, B, C, or D)."
   ]
  },
  {
   "cell_type": "markdown",
   "id": "quiz-question-1",
   "metadata": {},
   "source": [
    "**1. What is a key characteristic of combinatorial optimization problems?**\n",
    "\n",
    "A. The decision variables can take any value within a continuous range.\n",
    "\n",
    "B. They always involve minimizing a quadratic function.\n",
    "\n",
    "C. The goal is to find an optimal solution from a finite or discrete set of possible solutions.\n",
    "\n",
    "D. They are exclusively solved using genetic algorithms.\n",
    "\n",
    "**Answer 1:** [Your Answer Here]"
   ]
  },
  {
   "cell_type": "markdown",
   "id": "quiz-question-2",
   "metadata": {},
   "source": [
    "**2. In the context of a 0-1 Knapsack Problem, what does a binary gene `1` in a chromosome typically represent?**\n",
    "\n",
    "A. The item is the most valuable.\n",
    "\n",
    "B. The item is selected and placed in the knapsack.\n",
    "\n",
    "C. The item has a weight of 1 kg.\n",
    "\n",
    "D. The item is assigned to the first position.\n",
    "\n",
    "**Answer 2:** [Your Answer Here]"
   ]
  },
  {
   "cell_type": "markdown",
   "id": "quiz-question-3",
   "metadata": {},
   "source": [
    "**3. When solving a constrained Knapsack Problem where the total weight of selected items exceeds the capacity, how does the penalty function method adjust the fitness value?**\n",
    "\n",
    "A. It increases the fitness value to reward the high total value of items.\n",
    "\n",
    "B. It automatically removes the heaviest item from the selection.\n",
    "\n",
    "C. It has no effect on the fitness value.\n",
    "\n",
    "D. It subtracts a penalty from the total value, with the penalty size proportional to the amount of excess weight.\n",
    "\n",
    "**Answer 3:** [Your Answer Here]"
   ]
  },
  {
   "cell_type": "markdown",
   "id": "quiz-question-4",
   "metadata": {},
   "source": [
    "**4. For the Traveling Salesman Problem (TSP) using sequential encoding, why is a specialized crossover operator like Ordered Crossover (OX) needed instead of a simple single-point crossover?**\n",
    "\n",
    "A. Simple crossover is too computationally expensive.\n",
    "\n",
    "B. Simple crossover would likely produce invalid offspring where cities are repeated or omitted, breaking the permutation rule.\n",
    "\n",
    "C. Ordered Crossover is the only method that guarantees a shorter route.\n",
    "\n",
    "D. Simple crossover only works for binary encoded problems.\n",
    "\n",
    "**Answer 4:** [Your Answer Here]"
   ]
  },
  {
   "cell_type": "markdown",
   "id": "quiz-question-5",
   "metadata": {},
   "source": [
    "**5. In the Python implementation for the TSP, the `squareform(pdist(city_locations, 'euclidean'))` code is used. What is its purpose?**\n",
    "\n",
    "A. To create the initial population of random routes.\n",
    "\n",
    "B. To plot the final route on a 2D graph.\n",
    "\n",
    "C. To calculate the pairwise Euclidean distances between all cities and store them in a distance matrix for quick look-up.\n",
    "\n",
    "D. To select the best parent using tournament selection.\n",
    "\n",
    "**Answer 5:** [Your Answer Here]"
   ]
  },
  {
   "cell_type": "markdown",
   "id": "quiz-question-6",
   "metadata": {},
   "source": [
    "**6. What does the \"greedy split\" method, as described in the Waste Collection case study, primarily achieve?**\n",
    "\n",
    "A. It determines the single best order to visit all houses regardless of truck capacity.\n",
    "\n",
    "B. It calculates the shortest distance between any two houses.\n",
    "\n",
    "C. It takes a single sequence of houses and divides it into multiple feasible routes, ensuring no single route exceeds the truck's capacity.\n",
    "\n",
    "D. It sorts the houses based on their waste collection demand.\n",
    "\n",
    "**Answer 6:** [Your Answer Here]"
   ]
  },
  {
   "cell_type": "markdown",
   "id": "quiz-question-7",
   "metadata": {},
   "source": [
    "**7. In the Container Loading case study, how is the fitness of a potential solution evaluated?**\n",
    "\n",
    "A. By counting how many items are selected.\n",
    "\n",
    "B. By calculating the total value of the selected items.\n",
    "\n",
    "C. By calculating the loading rate (total area of loaded items / container area) and subtracting a penalty for items that could not be placed.\n",
    "\n",
    "D. By simply measuring the remaining empty space in the container.\n",
    "\n",
    "**Answer 7:** [Your Answer Here]"
   ]
  },
  {
   "cell_type": "markdown",
   "id": "quiz-question-8",
   "metadata": {},
   "source": [
    "**8. The Python frameworks presented for the Knapsack, TSP, and other problems often include an `update_population` function. What is its main role?**\n",
    "\n",
    "A. To apply the mutation operator to the entire population.\n",
    "\n",
    "B. To ensure the population size remains constant by removing the least fit individuals after new offspring are added.\n",
    "\n",
    "C. To calculate the fitness of every individual.\n",
    "\n",
    "D. To select the parents for the next generation.\n",
    "\n",
    "**Answer 8:** [Your Answer Here]"
   ]
  },
  {
   "cell_type": "markdown",
   "id": "quiz-question-9",
   "metadata": {},
   "source": [
    "**9. For a sequential problem like the Flow Shop Scheduling Problem (FSSP), what does a single individual or chromosome in the GA population represent?**\n",
    "\n",
    "A. The processing time for a single job.\n",
    "\n",
    "B. The assignment of one job to one machine.\n",
    "\n",
    "C. The sequence in which all jobs will be processed through the machines.\n",
    "\n",
    "D. The total completion time (makespan).\n",
    "\n",
    "**Answer 9:** [Your Answer Here]"
   ]
  },
  {
   "cell_type": "markdown",
   "id": "quiz-question-10",
   "metadata": {},
   "source": [
    "**10. What type of encoding is most suitable for a problem where the solution is an ordered list, such as the TSP or FSSP?**\n",
    "\n",
    "A. Binary encoding.\n",
    "\n",
    "B. Sequential (or permutation) encoding.\n",
    "\n",
    "C. Value-to-weight ratio encoding.\n",
    "\n",
    "D. Real-number encoding.\n",
    "\n",
    "**Answer 10:** [Your Answer Here]"
   ]
  }
 ],
 "metadata": {
  "language_info": {
   "name": "python"
  }
 },
 "nbformat": 4,
 "nbformat_minor": 5
}
